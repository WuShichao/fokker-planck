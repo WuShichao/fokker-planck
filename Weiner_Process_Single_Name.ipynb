{
 "cells": [
  {
   "cell_type": "markdown",
   "metadata": {},
   "source": [
    "# Wiener Stochastic Process\n",
    "\n",
    "Gaussian Probability Diffusion over Twelve Time Steps\n",
    "\n",
    "Individual Trajectory for One Name\n"
   ]
  },
  {
   "cell_type": "code",
   "execution_count": 12,
   "metadata": {
    "collapsed": true
   },
   "outputs": [],
   "source": [
    "from matplotlib import pyplot\n",
    "from scipy.stats  import invgauss\n",
    "from random import random"
   ]
  },
  {
   "cell_type": "markdown",
   "metadata": {},
   "source": [
    "Initialize model parameters\n",
    "Note:  feel free to change these parameter values and watch the graph change\n",
    "    \n",
    "* mu is the drift term\n",
    "* dt is the time step\n",
    "*  sigma is the standard deviation\n",
    "*  S, dS, and density are random Gaussian values with paramterers N(0, dt)\n"
   ]
  },
  {
   "cell_type": "code",
   "execution_count": 13,
   "metadata": {
    "collapsed": true
   },
   "outputs": [],
   "source": [
    "mu =  0.00500 \n",
    "sigma =  0.00500 \n",
    "dt = 1\n",
    "S0 = 1\n"
   ]
  },
  {
   "cell_type": "markdown",
   "metadata": {},
   "source": [
    "Initialize the data by declaring arrays and filling the first element in the array"
   ]
  },
  {
   "cell_type": "code",
   "execution_count": 14,
   "metadata": {
    "collapsed": true
   },
   "outputs": [],
   "source": [
    "time = [0]\n",
    "density = [0]\n",
    "dS = [0]\n",
    "S = [S0]"
   ]
  },
  {
   "cell_type": "markdown",
   "metadata": {},
   "source": [
    "Add the second element in the array containing the initial value of the density"
   ]
  },
  {
   "cell_type": "code",
   "execution_count": 15,
   "metadata": {
    "collapsed": true
   },
   "outputs": [],
   "source": [
    "time.append(time[0] + dt)\n",
    "density.append(0.00500) \n",
    "dS.append(S[0] * density[1])\n",
    "S.append(S[0] + dS[1])"
   ]
  },
  {
   "cell_type": "markdown",
   "metadata": {},
   "source": [
    "Next we loop through the remaining time steps, adding to the arrays"
   ]
  },
  {
   "cell_type": "code",
   "execution_count": 16,
   "metadata": {},
   "outputs": [],
   "source": [
    "for i in range(1, 12):\n",
    "    time.append(time[i] + dt)\n",
    "    \n",
    "    randvar = invgauss.rvs(mu=random(), loc=0 ,scale=dt)\n",
    "    walk = mu * dt + sigma * randvar\n",
    "    density.append(walk)\n",
    "    \n",
    "    dS.append(S[i] * density[i+1])\n",
    "    S.append(S[i] + dS[i+1])"
   ]
  },
  {
   "cell_type": "markdown",
   "metadata": {},
   "source": [
    "Now take a look at the values"
   ]
  },
  {
   "cell_type": "code",
   "execution_count": 17,
   "metadata": {},
   "outputs": [
    {
     "name": "stdout",
     "output_type": "stream",
     "text": [
      "Time \t dS/S \t dS \t S\n",
      "0  \t  0.00000  \t  0.00000  \t  1.00000\n",
      "1  \t  0.00500  \t  0.00500  \t  1.00500\n",
      "2  \t  0.00654  \t  0.00657  \t  1.01157\n",
      "3  \t  0.01191  \t  0.01205  \t  1.02362\n",
      "4  \t  0.00513  \t  0.00525  \t  1.02887\n",
      "5  \t  0.00588  \t  0.00605  \t  1.03492\n",
      "6  \t  0.00740  \t  0.00766  \t  1.04257\n",
      "7  \t  0.00534  \t  0.00556  \t  1.04814\n",
      "8  \t  0.00605  \t  0.00634  \t  1.05448\n",
      "9  \t  0.00501  \t  0.00528  \t  1.05976\n",
      "10  \t  0.00925  \t  0.00980  \t  1.06956\n",
      "11  \t  0.00814  \t  0.00871  \t  1.07827\n"
     ]
    }
   ],
   "source": [
    "print(\"Time \\t dS/S \\t dS \\t S\")\n",
    "\n",
    "for j in range(12):\n",
    "    print(time[j],\" \\t \", \"%.5f\" % density[j], \" \\t \", \"%.5f\" % dS[j], \" \\t \", \"%.5f\" % S[j])\n",
    "\n"
   ]
  },
  {
   "cell_type": "markdown",
   "metadata": {},
   "source": [
    "Finally generate the plot"
   ]
  },
  {
   "cell_type": "code",
   "execution_count": 18,
   "metadata": {},
   "outputs": [
    {
     "data": {
      "image/png": "[encoded data removed]",
      "text/plain": [
       "<matplotlib.figure.Figure at 0x7c9f1d0>"
      ]
     },
     "metadata": {},
     "output_type": "display_data"
    }
   ],
   "source": [
    "pyplot.plot(time,S,color='green', marker='o', linestyle='solid')\n",
    "pyplot.title(\"Share Price - Wiener Stochastic Process - Single Name\")\n",
    "pyplot.show()"
   ]
  }
 ],
 "metadata": {
  "kernelspec": {
   "display_name": "Python 3",
   "language": "python",
   "name": "python3"
  },
  "language_info": {
   "codemirror_mode": {
    "name": "ipython",
    "version": 3
   },
   "file_extension": ".py",
   "mimetype": "text/x-python",
   "name": "python",
   "nbconvert_exporter": "python",
   "pygments_lexer": "ipython3",
   "version": "3.6.1"
  }
 },
 "nbformat": 4,
 "nbformat_minor": 2
}
