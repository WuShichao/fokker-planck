{
 "cells": [
  {
   "cell_type": "markdown",
   "metadata": {},
   "source": [
    "# Wiener Stochastic Process\n",
    "\n",
    "Gaussian Probability Diffusion over Twelve Time Steps\n",
    "\n",
    "Portfolio of 10 Names \n",
    "\n",
    "Replace the multiple array structure of the single name FP model with a pandas dataframe"
   ]
  },
  {
   "cell_type": "code",
   "execution_count": 79,
   "metadata": {
    "collapsed": true
   },
   "outputs": [],
   "source": [
    "import numpy as np\n",
    "import pandas as pd\n",
    "import matplotlib.pyplot as plt\n",
    "from scipy.stats  import invgauss\n",
    "from random import random"
   ]
  },
  {
   "cell_type": "markdown",
   "metadata": {},
   "source": [
    "Initialize model parameters\n",
    "Note:  feel free to change these parameter values and watch the graph change\n",
    "    \n",
    "* mu is the drift term\n",
    "* dt is the time step\n",
    "*  sigma is the standard deviation\n",
    "*  S, dS, and density are random Gaussian values with paramterers N(0, dt)\n"
   ]
  },
  {
   "cell_type": "code",
   "execution_count": 80,
   "metadata": {
    "collapsed": true
   },
   "outputs": [],
   "source": [
    "mu =  0.00500 \n",
    "sigma =  0.00500 \n",
    "dt = 1\n",
    "S0 = 1\n"
   ]
  },
  {
   "cell_type": "markdown",
   "metadata": {},
   "source": [
    "Initialize the data by declaring arrays and filling the first element in the array"
   ]
  },
  {
   "cell_type": "code",
   "execution_count": 81,
   "metadata": {},
   "outputs": [],
   "source": [
    "\n",
    "#create a big array of nones to hold our data\n",
    "w,h = 40, 10\n",
    "array = [[None] * w for i in range(h)]\n",
    "\n",
    "#set up the column headings\n",
    "columns = []\n",
    "for i in range(10):\n",
    "    columns.append('Time' + str(i))\n",
    "    columns.append('density' + str(i))\n",
    "    columns.append('dS' + str(i))\n",
    "    columns.append('S' + str(i))\n",
    "\n",
    "#set up the indexes\n",
    "index = []\n",
    "for i  in range (h):\n",
    "    index.append(str(i))\n",
    "\n",
    "#create a dataframe based on the columns and indices\n",
    "df = pd.DataFrame(array, columns=columns, index=index)\n",
    "\n",
    "#intialize first row\n",
    "first_row = [0, 0,0,S0] * 10\n",
    "\n",
    "df.loc[0] = first_row\n",
    "\n"
   ]
  },
  {
   "cell_type": "markdown",
   "metadata": {},
   "source": [
    "Add the second element in the array containing the initial value of the density"
   ]
  },
  {
   "cell_type": "code",
   "execution_count": 82,
   "metadata": {},
   "outputs": [],
   "source": [
    "t1 = dt\n",
    "density1 = 0.00500 \n",
    "dS1 = S0 * density1\n",
    "S1 = S0 + dS1\n",
    "\n",
    "#initialize the second row\n",
    "second_row = [t1, density1, dS1, S1] * 10\n",
    "\n",
    "df.loc[1] = second_row\n"
   ]
  },
  {
   "cell_type": "markdown",
   "metadata": {},
   "source": [
    "Next we loop through the remaining time steps, adding to the arrays"
   ]
  },
  {
   "cell_type": "code",
   "execution_count": 83,
   "metadata": {},
   "outputs": [],
   "source": [
    "for i in range(2, 12):\n",
    "    prev_iter = df.loc[i-1]\n",
    "    #print(prev_iter)\n",
    "    \n",
    "    new_row = []\n",
    "    \n",
    "    for j in range(10):\n",
    "        prev_index = str(j)\n",
    "        time_hash = \"Time\" + prev_index\n",
    "        density_hash = \"density\" + prev_index \n",
    "        dS_hash = \"dS\" + prev_index\n",
    "        S_hash = \"S\" + prev_index\n",
    "    \n",
    "        new_time = prev_iter[time_hash] + dt\n",
    "        randvar = invgauss.rvs(mu=random(), loc=0 ,scale=dt)\n",
    "        walk = mu * dt + sigma * randvar\n",
    "        new_density = walk\n",
    "        new_dS = prev_iter[dS_hash] + new_density\n",
    "        new_S = prev_iter[S_hash] + new_dS\n",
    "        \n",
    "        new_row.append(new_time)\n",
    "        new_row.append(new_density)\n",
    "        new_row.append(new_dS)\n",
    "        new_row.append(new_S)\n",
    "        \n",
    "    df.loc[i] = new_row\n"
   ]
  },
  {
   "cell_type": "markdown",
   "metadata": {},
   "source": [
    "Now take a look at the values"
   ]
  },
  {
   "cell_type": "code",
   "execution_count": 84,
   "metadata": {},
   "outputs": [
    {
     "name": "stdout",
     "output_type": "stream",
     "text": [
      "   Time0    density0        dS0       S0 Time1    density1        dS1  \\\n",
      "0   None        None       None     None  None        None       None   \n",
      "1   None        None       None     None  None        None       None   \n",
      "2   None        None       None     None  None        None       None   \n",
      "3   None        None       None     None  None        None       None   \n",
      "4   None        None       None     None  None        None       None   \n",
      "5   None        None       None     None  None        None       None   \n",
      "6   None        None       None     None  None        None       None   \n",
      "7   None        None       None     None  None        None       None   \n",
      "8   None        None       None     None  None        None       None   \n",
      "9   None        None       None     None  None        None       None   \n",
      "0      0           0          0        1     0           0          0   \n",
      "1      1       0.005      0.005    1.005     1       0.005      0.005   \n",
      "2      2  0.00679657  0.0117966   1.0168     2  0.00578243  0.0107824   \n",
      "3      3  0.00846851  0.0202651  1.03706     3  0.00911478  0.0198972   \n",
      "4      4   0.0128099  0.0330749  1.07014     4   0.0059747  0.0258719   \n",
      "5      5  0.00548408   0.038559   1.1087     5  0.00530855  0.0311805   \n",
      "6      6  0.00613397   0.044693  1.15339     6  0.00716211  0.0383426   \n",
      "7      7  0.00587723  0.0505702  1.20396     7  0.00549879  0.0438414   \n",
      "8      8  0.00608586  0.0566561  1.26061     8  0.00525511  0.0490965   \n",
      "9      9  0.00569158  0.0623477  1.32296     9  0.00694383  0.0560403   \n",
      "10    10  0.00728131   0.069629  1.39259    10  0.00758024  0.0636205   \n",
      "11    11  0.00565288  0.0752819  1.46787    11  0.00677741  0.0703979   \n",
      "\n",
      "         S1 Time2    density2   ...           dS7       S7 Time8    density8  \\\n",
      "0      None  None        None   ...          None     None  None        None   \n",
      "1      None  None        None   ...          None     None  None        None   \n",
      "2      None  None        None   ...          None     None  None        None   \n",
      "3      None  None        None   ...          None     None  None        None   \n",
      "4      None  None        None   ...          None     None  None        None   \n",
      "5      None  None        None   ...          None     None  None        None   \n",
      "6      None  None        None   ...          None     None  None        None   \n",
      "7      None  None        None   ...          None     None  None        None   \n",
      "8      None  None        None   ...          None     None  None        None   \n",
      "9      None  None        None   ...          None     None  None        None   \n",
      "0         1     0           0   ...             0        1     0           0   \n",
      "1     1.005     1       0.005   ...         0.005    1.005     1       0.005   \n",
      "2   1.01578     2   0.0199477   ...     0.0149257  1.01993     2  0.00941395   \n",
      "3   1.03568     3  0.00656863   ...     0.0239541  1.04388     3  0.00533945   \n",
      "4   1.06155     4  0.00591755   ...     0.0293873  1.07327     4  0.00630253   \n",
      "5   1.09273     5   0.0055472   ...     0.0354429  1.10871     5  0.00726987   \n",
      "6   1.13107     6  0.00580162   ...     0.0408603  1.14957     6   0.0231972   \n",
      "7   1.17492     7   0.0101411   ...     0.0527244  1.20229     7  0.00885926   \n",
      "8   1.22401     8  0.00583373   ...     0.0582078   1.2605     8  0.00802119   \n",
      "9   1.28005     9  0.00533201   ...     0.0706067  1.33111     9  0.00658677   \n",
      "10  1.34367    10  0.00553841   ...     0.0783933   1.4095    10  0.00673053   \n",
      "11  1.41407    11  0.00936052   ...      0.084814  1.49432    11  0.00702065   \n",
      "\n",
      "          dS8       S8 Time9    density9        dS9       S9  \n",
      "0        None     None  None        None       None     None  \n",
      "1        None     None  None        None       None     None  \n",
      "2        None     None  None        None       None     None  \n",
      "3        None     None  None        None       None     None  \n",
      "4        None     None  None        None       None     None  \n",
      "5        None     None  None        None       None     None  \n",
      "6        None     None  None        None       None     None  \n",
      "7        None     None  None        None       None     None  \n",
      "8        None     None  None        None       None     None  \n",
      "9        None     None  None        None       None     None  \n",
      "0           0        1     0           0          0        1  \n",
      "1       0.005    1.005     1       0.005      0.005    1.005  \n",
      "2   0.0144139  1.01941     2  0.00763453  0.0126345  1.01763  \n",
      "3   0.0197534  1.03917     3   0.0129616  0.0255962  1.04323  \n",
      "4   0.0260559  1.06522     4  0.00610482   0.031701  1.07493  \n",
      "5   0.0333258  1.09855     5   0.0150495  0.0467505  1.12168  \n",
      "6    0.056523  1.15507     6  0.00831067  0.0550612  1.17674  \n",
      "7   0.0653823  1.22045     7  0.00738743  0.0624486  1.23919  \n",
      "8   0.0734034  1.29386     8  0.00551621  0.0679648  1.30716  \n",
      "9   0.0799902  1.37385     9  0.00511775  0.0730826  1.38024  \n",
      "10  0.0867207  1.46057    10  0.00768503  0.0807676  1.46101  \n",
      "11  0.0937414  1.55431    11   0.0100188  0.0907864  1.55179  \n",
      "\n",
      "[22 rows x 40 columns]\n"
     ]
    }
   ],
   "source": [
    "\n",
    "print(df)"
   ]
  },
  {
   "cell_type": "markdown",
   "metadata": {},
   "source": [
    "Finally generate the plot"
   ]
  },
  {
   "cell_type": "code",
   "execution_count": 85,
   "metadata": {},
   "outputs": [
    {
     "data": {
      "image/png": "[encoded data removed]",
      "text/plain": [
       "<matplotlib.figure.Figure at 0xade1390>"
      ]
     },
     "metadata": {},
     "output_type": "display_data"
    }
   ],
   "source": [
    "x = df[\"Time0\"]\n",
    "\n",
    "for i in range(10):\n",
    "    hash = \"S\" + str(i)\n",
    "    plt.plot(x,df[hash], marker='o', linestyle='solid')\n",
    "\n",
    "plt.title(\"Share Price - Wiener Stochastic Process - 10 Names\")\n",
    "plt.show()"
   ]
  }
 ],
 "metadata": {
  "kernelspec": {
   "display_name": "Python 3",
   "language": "python",
   "name": "python3"
  },
  "language_info": {
   "codemirror_mode": {
    "name": "ipython",
    "version": 3
   },
   "file_extension": ".py",
   "mimetype": "text/x-python",
   "name": "python",
   "nbconvert_exporter": "python",
   "pygments_lexer": "ipython3",
   "version": "3.6.1"
  }
 },
 "nbformat": 4,
 "nbformat_minor": 2
}
